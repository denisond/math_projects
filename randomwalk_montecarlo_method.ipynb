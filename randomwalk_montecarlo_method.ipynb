{
 "cells": [
  {
   "cell_type": "markdown",
   "metadata": {},
   "source": [
    "# Randomwalk Demo\n",
    "\n",
    "We first define some function \"random_walk0\" which gives us random x,y coordinates for some certain number of walks. Think of each step being a city block, meaning you can move north, east, west, or south, one unit at a time"
   ]
  },
  {
   "cell_type": "code",
   "execution_count": 1,
   "metadata": {},
   "outputs": [],
   "source": [
    "import random\n",
    "\n",
    "def random_walk(n):\n",
    "    x = 0\n",
    "    y = 0\n",
    "    for i in range(n):\n",
    "        (dx, dy) = random.choice([(0, 1), (0, -1), (1,0), (-1,0)])\n",
    "        x += dx\n",
    "        y += dy\n",
    "\n",
    "    return (x,y)"
   ]
  },
  {
   "cell_type": "markdown",
   "metadata": {},
   "source": [
    "Now we are going to run a montecarlo method experiment to try to gain insights on how many random walks will leave you equal to, or less than, five blocks away.\n",
    "\n",
    "Below we run 10,000 walks for a walk length of 1 to 30. "
   ]
  },
  {
   "cell_type": "code",
   "execution_count": 2,
   "metadata": {},
   "outputs": [
    {
     "name": "stdout",
     "output_type": "stream",
     "text": [
      "If the walk length is equal to 1, then 100.000% of the walks will be short.\n",
      "If the walk length is equal to 2, then 100.000% of the walks will be short.\n",
      "If the walk length is equal to 3, then 100.000% of the walks will be short.\n",
      "If the walk length is equal to 4, then 100.000% of the walks will be short.\n",
      "If the walk length is equal to 5, then 100.000% of the walks will be short.\n",
      "If the walk length is equal to 6, then 93.880% of the walks will be short.\n",
      "If the walk length is equal to 7, then 97.110% of the walks will be short.\n",
      "If the walk length is equal to 8, then 86.730% of the walks will be short.\n",
      "If the walk length is equal to 9, then 92.340% of the walks will be short.\n",
      "If the walk length is equal to 10, then 80.200% of the walks will be short.\n",
      "If the walk length is equal to 11, then 87.550% of the walks will be short.\n",
      "If the walk length is equal to 12, then 72.700% of the walks will be short.\n",
      "If the walk length is equal to 13, then 82.300% of the walks will be short.\n",
      "If the walk length is equal to 14, then 67.260% of the walks will be short.\n",
      "If the walk length is equal to 15, then 77.640% of the walks will be short.\n",
      "If the walk length is equal to 16, then 62.170% of the walks will be short.\n",
      "If the walk length is equal to 17, then 73.470% of the walks will be short.\n",
      "If the walk length is equal to 18, then 58.070% of the walks will be short.\n",
      "If the walk length is equal to 19, then 69.140% of the walks will be short.\n",
      "If the walk length is equal to 20, then 54.720% of the walks will be short.\n",
      "If the walk length is equal to 21, then 66.470% of the walks will be short.\n",
      "If the walk length is equal to 22, then 50.870% of the walks will be short.\n",
      "If the walk length is equal to 23, then 62.160% of the walks will be short.\n",
      "If the walk length is equal to 24, then 47.100% of the walks will be short.\n",
      "If the walk length is equal to 25, then 59.730% of the walks will be short.\n",
      "If the walk length is equal to 26, then 45.680% of the walks will be short.\n",
      "If the walk length is equal to 27, then 55.530% of the walks will be short.\n",
      "If the walk length is equal to 28, then 43.320% of the walks will be short.\n",
      "If the walk length is equal to 29, then 55.070% of the walks will be short.\n",
      "If the walk length is equal to 30, then 40.970% of the walks will be short.\n"
     ]
    }
   ],
   "source": [
    "number_of_walks = 10000\n",
    "\n",
    "for walk_length in range(1, 31):\n",
    "    short_walk = 0\n",
    "    for i in range(number_of_walks):\n",
    "        (x,y) = (random_walk(walk_length))\n",
    "        distance = abs(x) + abs(y)\n",
    "        if distance <= 5:\n",
    "            short_walk += 1\n",
    "    print(\"If the walk length is equal to \" + str(walk_length) + \", then \" \n",
    "            + str('%.3f'%((short_walk/number_of_walks)*100)) + \"% of the walks will be short.\")"
   ]
  },
  {
   "cell_type": "markdown",
   "metadata": {},
   "source": [
    "Unsurprisingly, 100% of the time we will be within five blocks for up to five steps. Eventually some interesting patterns emerge. For example, odd number walks leave you much more likely to be within five blocks than the previous even number."
   ]
  },
  {
   "cell_type": "code",
   "execution_count": null,
   "metadata": {
    "collapsed": true
   },
   "outputs": [],
   "source": []
  }
 ],
 "metadata": {
  "kernelspec": {
   "display_name": "Python 3",
   "language": "python",
   "name": "python3"
  },
  "language_info": {
   "codemirror_mode": {
    "name": "ipython",
    "version": 3
   },
   "file_extension": ".py",
   "mimetype": "text/x-python",
   "name": "python",
   "nbconvert_exporter": "python",
   "pygments_lexer": "ipython3",
   "version": "3.6.3"
  }
 },
 "nbformat": 4,
 "nbformat_minor": 2
}
